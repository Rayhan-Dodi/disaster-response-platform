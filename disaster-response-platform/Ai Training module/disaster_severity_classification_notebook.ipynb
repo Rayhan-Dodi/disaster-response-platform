
{
 "cells": [
  {
   "cell_type": "markdown",
   "metadata": {},
   "source": [
    "# Disaster Severity Classification - Text and Image Based
",
    "
",
    "This notebook demonstrates how to use machine learning models to classify disaster severity based on text and images.
",
    "
",
    "We will use BERT for text classification and ResNet50 for image classification."
   ]
  },
  {
   "cell_type": "markdown",
   "metadata": {},
   "source": [
    "## 1. Text-Based Disaster Severity Classification
",
    "For the text-based disaster severity classification, we will use the pre-trained BERT model from Hugging Face Transformers.
",
    "
",
    "We'll fine-tune the model to classify disaster reports into different severity levels (e.g., low, medium, high)."
   ]
  },
  {
   "cell_type": "code",
   "execution_count": 1,
   "id": "text_model_cell",
   "metadata": {},
   "outputs": [],
   "source": [
    "from transformers import BertTokenizer, BertForSequenceClassification
",
    "import torch
",
    "
",
    "# Load pre-trained model and tokenizer
",
    "model = BertForSequenceClassification.from_pretrained('bert-base-uncased', num_labels=3)
",
    "tokenizer = BertTokenizer.from_pretrained('bert-base-uncased')
",
    "
",
    "# Example text
",
    "text = "Massive earthquake strikes city, many casualties expected."
",
    "
",
    "# Tokenize and convert to tensor
",
    "inputs = tokenizer(text, return_tensors="pt", padding=True, truncation=True)
",
    "outputs = model(**inputs)
",
    "predictions = torch.argmax(outputs.logits, dim=-1)
",
    "
",
    "print(predictions)  # Output the predicted severity class"
   ]
  },
  {
   "cell_type": "markdown",
   "metadata": {},
   "source": [
    "## 2. Image-Based Disaster Severity Classification
",
    "For the image-based classification, we'll fine-tune the ResNet50 model to classify images into severity categories.
",
    "We'll use TensorFlow to load and fine-tune the model."
   ]
  },
  {
   "cell_type": "code",
   "execution_count": 2,
   "id": "image_model_cell",
   "metadata": {},
   "outputs": [],
   "source": [
    "import tensorflow as tf
",
    "from tensorflow.keras.applications import ResNet50
",
    "from tensorflow.keras.preprocessing.image import ImageDataGenerator
",
    "
",
    "# Load pre-trained ResNet50 model without the top layer
",
    "base_model = ResNet50(weights='imagenet', include_top=False, input_shape=(224, 224, 3))
",
    "
",
    "# Add custom layers
",
    "x = tf.keras.layers.GlobalAveragePooling2D()(base_model.output)
",
    "x = tf.keras.layers.Dense(512, activation='relu')(x)
",
    "output = tf.keras.layers.Dense(3, activation='softmax')(x)
",
    "
",
    "# Create the final model
",
    "model = tf.keras.Model(inputs=base_model.input, outputs=output)
",
    "
",
    "# Freeze base model layers for fine-tuning
",
    "for layer in base_model.layers:
",
    "    layer.trainable = False
",
    "
",
    "# Compile the model
",
    "model.compile(optimizer='adam', loss='categorical_crossentropy', metrics=['accuracy'])
",
    "
",
    "# Example dataset for training
",
    "train_datagen = ImageDataGenerator(rescale=1./255)
",
    "train_generator = train_datagen.flow_from_directory('path_to_train_data', target_size=(224, 224), batch_size=32, class_mode='categorical')
",
    "
",
    "# Train the model
",
    "model.fit(train_generator, epochs=5)"
   ]
  }
 ],
 "metadata": {
  "kernelspec": {
   "display_name": "Python 3",
   "language": "python",
   "name": "python3"
  },
  "language_info": {
   "codemirror_mode": {
    "name": "ipython",
    "version": 3
   },
   "file_extension": ".py",
   "mimetype": "text/x-python",
   "name": "python",
   "nbconvert_exporter": "python",
   "version": "3.8.5"
  }
 },
 "nbformat": 4,
 "nbformat_minor": 5
}
